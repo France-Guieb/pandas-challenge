{
 "cells": [
  {
   "cell_type": "markdown",
   "metadata": {},
   "source": [
    "### Note\n",
    "* Instructions have been included for each segment. You do not have to follow them exactly, but they are included to help you think through the steps."
   ]
  },
  {
   "cell_type": "code",
   "execution_count": 1,
   "metadata": {},
   "outputs": [],
   "source": [
    "# Dependencies and Setup\n",
    "import pandas as pd\n",
    "import locale\n",
    "locale.setlocale(locale.LC_ALL, '')\n",
    "\n",
    "# File to Load (Remember to Change These)\n",
    "school_data_to_load = \"Resources/schools_complete.csv\"\n",
    "student_data_to_load = \"Resources/students_complete.csv\"\n",
    "\n",
    "# Read School and Student Data File and store into Pandas DataFrames\n",
    "school_data = pd.read_csv(school_data_to_load)\n",
    "student_data = pd.read_csv(student_data_to_load)\n",
    "\n",
    "# Combine the data into a single dataset.  \n",
    "school_data_complete = pd.merge(student_data, school_data, how=\"left\", on=[\"school_name\", \"school_name\"])"
   ]
  },
  {
   "cell_type": "markdown",
   "metadata": {},
   "source": [
    "## District Summary\n",
    "\n",
    "* Calculate the total number of schools\n",
    "\n",
    "* Calculate the total number of students\n",
    "\n",
    "* Calculate the total budget\n",
    "\n",
    "* Calculate the average math score \n",
    "\n",
    "* Calculate the average reading score\n",
    "\n",
    "* Calculate the percentage of students with a passing math score (70 or greater)\n",
    "\n",
    "* Calculate the percentage of students with a passing reading score (70 or greater)\n",
    "\n",
    "* Calculate the percentage of students who passed math **and** reading (% Overall Passing)\n",
    "\n",
    "* Create a dataframe to hold the above results\n",
    "\n",
    "* Optional: give the displayed data cleaner formatting"
   ]
  },
  {
   "cell_type": "code",
   "execution_count": 2,
   "metadata": {
    "scrolled": true
   },
   "outputs": [
    {
     "data": {
      "text/plain": [
       "Student ID       39170\n",
       "student_name     39170\n",
       "gender           39170\n",
       "grade            39170\n",
       "school_name      39170\n",
       "reading_score    39170\n",
       "math_score       39170\n",
       "School ID        39170\n",
       "type             39170\n",
       "size             39170\n",
       "budget           39170\n",
       "dtype: int64"
      ]
     },
     "execution_count": 2,
     "metadata": {},
     "output_type": "execute_result"
    }
   ],
   "source": [
    "school_data_complete.count()"
   ]
  },
  {
   "cell_type": "code",
   "execution_count": 3,
   "metadata": {},
   "outputs": [
    {
     "data": {
      "text/plain": [
       "15"
      ]
     },
     "execution_count": 3,
     "metadata": {},
     "output_type": "execute_result"
    }
   ],
   "source": [
    "# total number of schools\n",
    "count_schools = school_data_complete['school_name'].nunique()\n",
    "count_schools"
   ]
  },
  {
   "cell_type": "code",
   "execution_count": 4,
   "metadata": {},
   "outputs": [
    {
     "data": {
      "text/plain": [
       "'39,170'"
      ]
     },
     "execution_count": 4,
     "metadata": {},
     "output_type": "execute_result"
    }
   ],
   "source": [
    "# total number of students\n",
    "count_students = school_data_complete['Student ID'].nunique()\n",
    "count_students1 = '{:,}'.format(count_students)\n",
    "count_students1"
   ]
  },
  {
   "cell_type": "code",
   "execution_count": 5,
   "metadata": {
    "scrolled": true
   },
   "outputs": [
    {
     "data": {
      "text/plain": [
       "'$24,649,428.00'"
      ]
     },
     "execution_count": 5,
     "metadata": {},
     "output_type": "execute_result"
    }
   ],
   "source": [
    "# total budget\n",
    "budget_schools = school_data_complete[[\"school_name\", \"budget\"]]\n",
    "budget_schools\n",
    "df = budget_schools.groupby([\"school_name\"])\n",
    "budget = df.mean()\n",
    "total_budget = budget[\"budget\"].sum()\n",
    "total_budget1= locale.currency(total_budget, grouping=True)\n",
    "total_budget1"
   ]
  },
  {
   "cell_type": "code",
   "execution_count": 6,
   "metadata": {},
   "outputs": [
    {
     "data": {
      "text/plain": [
       "78.98537145774827"
      ]
     },
     "execution_count": 6,
     "metadata": {},
     "output_type": "execute_result"
    }
   ],
   "source": [
    "# average Maths score\n",
    "ave_maths_score = school_data_complete['math_score'].mean()\n",
    "ave_maths_score"
   ]
  },
  {
   "cell_type": "code",
   "execution_count": 7,
   "metadata": {},
   "outputs": [
    {
     "data": {
      "text/plain": [
       "81.87784018381414"
      ]
     },
     "execution_count": 7,
     "metadata": {},
     "output_type": "execute_result"
    }
   ],
   "source": [
    "# average Reading score\n",
    "ave_reading_score = school_data_complete['reading_score'].mean()\n",
    "ave_reading_score"
   ]
  },
  {
   "cell_type": "code",
   "execution_count": 8,
   "metadata": {},
   "outputs": [
    {
     "data": {
      "text/plain": [
       "74.9808526933878"
      ]
     },
     "execution_count": 8,
     "metadata": {},
     "output_type": "execute_result"
    }
   ],
   "source": [
    "# % passing Maths\n",
    "passed_maths = len(school_data_complete[school_data_complete.math_score >= 70])\n",
    "passed_maths_pp = passed_maths/count_students * 100\n",
    "passed_maths_pp"
   ]
  },
  {
   "cell_type": "code",
   "execution_count": 9,
   "metadata": {},
   "outputs": [
    {
     "data": {
      "text/plain": [
       "85.80546336482001"
      ]
     },
     "execution_count": 9,
     "metadata": {},
     "output_type": "execute_result"
    }
   ],
   "source": [
    "# % passing Reading\n",
    "passed_reading = len(school_data_complete[school_data_complete.reading_score >= 70])\n",
    "passed_reading_pp = passed_reading/count_students * 100\n",
    "passed_reading_pp"
   ]
  },
  {
   "cell_type": "code",
   "execution_count": 10,
   "metadata": {},
   "outputs": [
    {
     "data": {
      "text/plain": [
       "65.17232575950983"
      ]
     },
     "execution_count": 10,
     "metadata": {},
     "output_type": "execute_result"
    }
   ],
   "source": [
    "# % overall passing\n",
    "reading = school_data_complete.loc[school_data_complete['reading_score'] >= 70, :]\n",
    "math = reading.loc[reading['math_score'] >= 70, :]\n",
    "math.head()\n",
    "passed_both = len(math['Student ID'])\n",
    "overall_passing = passed_both/count_students * 100\n",
    "overall_passing"
   ]
  },
  {
   "cell_type": "code",
   "execution_count": 11,
   "metadata": {},
   "outputs": [
    {
     "data": {
      "text/html": [
       "<div>\n",
       "<style scoped>\n",
       "    .dataframe tbody tr th:only-of-type {\n",
       "        vertical-align: middle;\n",
       "    }\n",
       "\n",
       "    .dataframe tbody tr th {\n",
       "        vertical-align: top;\n",
       "    }\n",
       "\n",
       "    .dataframe thead th {\n",
       "        text-align: right;\n",
       "    }\n",
       "</style>\n",
       "<table border=\"1\" class=\"dataframe\">\n",
       "  <thead>\n",
       "    <tr style=\"text-align: right;\">\n",
       "      <th></th>\n",
       "      <th>Total Schools</th>\n",
       "      <th>Total Students</th>\n",
       "      <th>Total Budget</th>\n",
       "      <th>Average Math Score</th>\n",
       "      <th>Average Reading Score</th>\n",
       "      <th>% Passing Math</th>\n",
       "      <th>% Passing Reading</th>\n",
       "      <th>% Overall Passing</th>\n",
       "    </tr>\n",
       "  </thead>\n",
       "  <tbody>\n",
       "    <tr>\n",
       "      <th>0</th>\n",
       "      <td>15</td>\n",
       "      <td>39,170</td>\n",
       "      <td>$24,649,428.00</td>\n",
       "      <td>78.985371</td>\n",
       "      <td>81.87784</td>\n",
       "      <td>74.980853</td>\n",
       "      <td>85.805463</td>\n",
       "      <td>65.172326</td>\n",
       "    </tr>\n",
       "  </tbody>\n",
       "</table>\n",
       "</div>"
      ],
      "text/plain": [
       "   Total Schools Total Students    Total Budget  Average Math Score  \\\n",
       "0             15         39,170  $24,649,428.00           78.985371   \n",
       "\n",
       "   Average Reading Score  % Passing Math  % Passing Reading  % Overall Passing  \n",
       "0               81.87784       74.980853          85.805463          65.172326  "
      ]
     },
     "execution_count": 11,
     "metadata": {},
     "output_type": "execute_result"
    }
   ],
   "source": [
    "# summary\n",
    "summary = [{'Total Schools' : count_schools,\n",
    "            'Total Students' : count_students1,\n",
    "            'Total Budget' : total_budget1,\n",
    "            'Average Math Score': ave_maths_score,\n",
    "            'Average Reading Score' : ave_reading_score,\n",
    "            '% Passing Math' : passed_maths_pp,\n",
    "            '% Passing Reading' : passed_reading_pp,\n",
    "            '% Overall Passing': overall_passing}\n",
    "            ]\n",
    "summary_table = pd.DataFrame(summary)\n",
    "summary_table"
   ]
  },
  {
   "cell_type": "markdown",
   "metadata": {},
   "source": [
    "## School Summary"
   ]
  },
  {
   "cell_type": "markdown",
   "metadata": {},
   "source": [
    "* Create an overview table that summarizes key metrics about each school, including:\n",
    "  * School Name\n",
    "  * School Type\n",
    "  * Total Students\n",
    "  * Total School Budget\n",
    "  * Per Student Budget\n",
    "  * Average Math Score\n",
    "  * Average Reading Score\n",
    "  * % Passing Math\n",
    "  * % Passing Reading\n",
    "  * % Overall Passing (The percentage of students that passed math **and** reading.)\n",
    "  \n",
    "* Create a dataframe to hold the above results"
   ]
  },
  {
   "cell_type": "code",
   "execution_count": 12,
   "metadata": {
    "scrolled": true
   },
   "outputs": [
    {
     "data": {
      "text/html": [
       "<div>\n",
       "<style scoped>\n",
       "    .dataframe tbody tr th:only-of-type {\n",
       "        vertical-align: middle;\n",
       "    }\n",
       "\n",
       "    .dataframe tbody tr th {\n",
       "        vertical-align: top;\n",
       "    }\n",
       "\n",
       "    .dataframe thead th {\n",
       "        text-align: right;\n",
       "    }\n",
       "</style>\n",
       "<table border=\"1\" class=\"dataframe\">\n",
       "  <thead>\n",
       "    <tr style=\"text-align: right;\">\n",
       "      <th></th>\n",
       "      <th>Student ID</th>\n",
       "      <th>student_name</th>\n",
       "      <th>gender</th>\n",
       "      <th>grade</th>\n",
       "      <th>school_name</th>\n",
       "      <th>reading_score</th>\n",
       "      <th>math_score</th>\n",
       "      <th>School ID</th>\n",
       "      <th>type</th>\n",
       "      <th>size</th>\n",
       "      <th>budget</th>\n",
       "    </tr>\n",
       "  </thead>\n",
       "  <tbody>\n",
       "    <tr>\n",
       "      <th>0</th>\n",
       "      <td>0</td>\n",
       "      <td>Paul Bradley</td>\n",
       "      <td>M</td>\n",
       "      <td>9th</td>\n",
       "      <td>Huang High School</td>\n",
       "      <td>66</td>\n",
       "      <td>79</td>\n",
       "      <td>0</td>\n",
       "      <td>District</td>\n",
       "      <td>2917</td>\n",
       "      <td>1910635</td>\n",
       "    </tr>\n",
       "    <tr>\n",
       "      <th>1</th>\n",
       "      <td>1</td>\n",
       "      <td>Victor Smith</td>\n",
       "      <td>M</td>\n",
       "      <td>12th</td>\n",
       "      <td>Huang High School</td>\n",
       "      <td>94</td>\n",
       "      <td>61</td>\n",
       "      <td>0</td>\n",
       "      <td>District</td>\n",
       "      <td>2917</td>\n",
       "      <td>1910635</td>\n",
       "    </tr>\n",
       "    <tr>\n",
       "      <th>2</th>\n",
       "      <td>2</td>\n",
       "      <td>Kevin Rodriguez</td>\n",
       "      <td>M</td>\n",
       "      <td>12th</td>\n",
       "      <td>Huang High School</td>\n",
       "      <td>90</td>\n",
       "      <td>60</td>\n",
       "      <td>0</td>\n",
       "      <td>District</td>\n",
       "      <td>2917</td>\n",
       "      <td>1910635</td>\n",
       "    </tr>\n",
       "    <tr>\n",
       "      <th>3</th>\n",
       "      <td>3</td>\n",
       "      <td>Dr. Richard Scott</td>\n",
       "      <td>M</td>\n",
       "      <td>12th</td>\n",
       "      <td>Huang High School</td>\n",
       "      <td>67</td>\n",
       "      <td>58</td>\n",
       "      <td>0</td>\n",
       "      <td>District</td>\n",
       "      <td>2917</td>\n",
       "      <td>1910635</td>\n",
       "    </tr>\n",
       "    <tr>\n",
       "      <th>4</th>\n",
       "      <td>4</td>\n",
       "      <td>Bonnie Ray</td>\n",
       "      <td>F</td>\n",
       "      <td>9th</td>\n",
       "      <td>Huang High School</td>\n",
       "      <td>97</td>\n",
       "      <td>84</td>\n",
       "      <td>0</td>\n",
       "      <td>District</td>\n",
       "      <td>2917</td>\n",
       "      <td>1910635</td>\n",
       "    </tr>\n",
       "  </tbody>\n",
       "</table>\n",
       "</div>"
      ],
      "text/plain": [
       "   Student ID       student_name gender grade        school_name  \\\n",
       "0           0       Paul Bradley      M   9th  Huang High School   \n",
       "1           1       Victor Smith      M  12th  Huang High School   \n",
       "2           2    Kevin Rodriguez      M  12th  Huang High School   \n",
       "3           3  Dr. Richard Scott      M  12th  Huang High School   \n",
       "4           4         Bonnie Ray      F   9th  Huang High School   \n",
       "\n",
       "   reading_score  math_score  School ID      type  size   budget  \n",
       "0             66          79          0  District  2917  1910635  \n",
       "1             94          61          0  District  2917  1910635  \n",
       "2             90          60          0  District  2917  1910635  \n",
       "3             67          58          0  District  2917  1910635  \n",
       "4             97          84          0  District  2917  1910635  "
      ]
     },
     "execution_count": 12,
     "metadata": {},
     "output_type": "execute_result"
    }
   ],
   "source": [
    "school_data_complete.head()"
   ]
  },
  {
   "cell_type": "code",
   "execution_count": 13,
   "metadata": {},
   "outputs": [],
   "source": [
    "# school name\n",
    "# school type\n",
    "school_data_complete1 = school_data_complete.rename(columns={\"type\" : \"School Type\"})\n",
    "summary_table = school_data_complete1.groupby([\"school_name\", \"School Type\"])\n"
   ]
  },
  {
   "cell_type": "code",
   "execution_count": 14,
   "metadata": {},
   "outputs": [],
   "source": [
    "# total students\n",
    "total_students = summary_table[\"Student ID\"].count()"
   ]
  },
  {
   "cell_type": "code",
   "execution_count": 15,
   "metadata": {},
   "outputs": [],
   "source": [
    "# total school budget\n",
    "total_budget = summary_table[\"budget\"].mean()"
   ]
  },
  {
   "cell_type": "code",
   "execution_count": 16,
   "metadata": {},
   "outputs": [],
   "source": [
    "# per student budget\n",
    "student_budget = summary_table[\"budget\"].mean()/summary_table[\"Student ID\"].count()"
   ]
  },
  {
   "cell_type": "code",
   "execution_count": 17,
   "metadata": {},
   "outputs": [],
   "source": [
    "# average maths score\n",
    "ave_maths = summary_table[\"math_score\"].mean()"
   ]
  },
  {
   "cell_type": "code",
   "execution_count": 18,
   "metadata": {},
   "outputs": [],
   "source": [
    "# average reading score\n",
    "ave_reading = summary_table[\"reading_score\"].mean()"
   ]
  },
  {
   "cell_type": "code",
   "execution_count": 19,
   "metadata": {},
   "outputs": [],
   "source": [
    "# % Passing Math\n",
    "passed_maths = school_data_complete.loc[school_data_complete[\"math_score\"]>=70].groupby(\"school_name\")[\"Student ID\"].count()/ total_students * 100 "
   ]
  },
  {
   "cell_type": "code",
   "execution_count": 20,
   "metadata": {
    "scrolled": true
   },
   "outputs": [],
   "source": [
    "# % Passing Reading\n",
    "passed_reading = school_data_complete.loc[school_data_complete[\"reading_score\"]>=70].groupby(\"school_name\")[\"Student ID\"].count()/ total_students * 100 "
   ]
  },
  {
   "cell_type": "code",
   "execution_count": 21,
   "metadata": {},
   "outputs": [],
   "source": [
    "# % Overall Passing\n",
    "passed_both = school_data_complete.loc[(school_data_complete[\"math_score\"]>=70) & (school_data_complete[\"reading_score\"]>=70)].groupby(\"school_name\")[\"Student ID\"].count()/ total_students * 100 "
   ]
  },
  {
   "cell_type": "code",
   "execution_count": 22,
   "metadata": {},
   "outputs": [],
   "source": [
    "# create summary dataframe\n",
    "school_summary = pd.DataFrame({\"Total Students\" : total_students,\n",
    "                               \"Total School Budget\" : total_budget,\n",
    "                               \"Per Student Budget\" : student_budget,\n",
    "                               \"Average Math Score\" : ave_maths,\n",
    "                               \"Average Reading Score\" : ave_reading,\n",
    "                               \"% Passing Math\" : passed_maths,\n",
    "                               \"% Passing Reading\" : passed_reading,\n",
    "                               \"% Overall Passing\" : passed_both})\n"
   ]
  },
  {
   "cell_type": "code",
   "execution_count": 23,
   "metadata": {},
   "outputs": [
    {
     "data": {
      "text/html": [
       "<div>\n",
       "<style scoped>\n",
       "    .dataframe tbody tr th:only-of-type {\n",
       "        vertical-align: middle;\n",
       "    }\n",
       "\n",
       "    .dataframe tbody tr th {\n",
       "        vertical-align: top;\n",
       "    }\n",
       "\n",
       "    .dataframe thead th {\n",
       "        text-align: right;\n",
       "    }\n",
       "</style>\n",
       "<table border=\"1\" class=\"dataframe\">\n",
       "  <thead>\n",
       "    <tr style=\"text-align: right;\">\n",
       "      <th></th>\n",
       "      <th></th>\n",
       "      <th>Total Students</th>\n",
       "      <th>Total School Budget</th>\n",
       "      <th>Per Student Budget</th>\n",
       "      <th>Average Math Score</th>\n",
       "      <th>Average Reading Score</th>\n",
       "      <th>% Passing Math</th>\n",
       "      <th>% Passing Reading</th>\n",
       "      <th>% Overall Passing</th>\n",
       "    </tr>\n",
       "    <tr>\n",
       "      <th>school_name</th>\n",
       "      <th>School Type</th>\n",
       "      <th></th>\n",
       "      <th></th>\n",
       "      <th></th>\n",
       "      <th></th>\n",
       "      <th></th>\n",
       "      <th></th>\n",
       "      <th></th>\n",
       "      <th></th>\n",
       "    </tr>\n",
       "  </thead>\n",
       "  <tbody>\n",
       "    <tr>\n",
       "      <th>Bailey High School</th>\n",
       "      <th>District</th>\n",
       "      <td>4976</td>\n",
       "      <td>$3,124,928.00</td>\n",
       "      <td>$628.00</td>\n",
       "      <td>77.048432</td>\n",
       "      <td>81.033963</td>\n",
       "      <td>66.680064</td>\n",
       "      <td>81.933280</td>\n",
       "      <td>54.642283</td>\n",
       "    </tr>\n",
       "    <tr>\n",
       "      <th>Cabrera High School</th>\n",
       "      <th>Charter</th>\n",
       "      <td>1858</td>\n",
       "      <td>$1,081,356.00</td>\n",
       "      <td>$582.00</td>\n",
       "      <td>83.061895</td>\n",
       "      <td>83.975780</td>\n",
       "      <td>94.133477</td>\n",
       "      <td>97.039828</td>\n",
       "      <td>91.334769</td>\n",
       "    </tr>\n",
       "    <tr>\n",
       "      <th>Figueroa High School</th>\n",
       "      <th>District</th>\n",
       "      <td>2949</td>\n",
       "      <td>$1,884,411.00</td>\n",
       "      <td>$639.00</td>\n",
       "      <td>76.711767</td>\n",
       "      <td>81.158020</td>\n",
       "      <td>65.988471</td>\n",
       "      <td>80.739234</td>\n",
       "      <td>53.204476</td>\n",
       "    </tr>\n",
       "    <tr>\n",
       "      <th>Ford High School</th>\n",
       "      <th>District</th>\n",
       "      <td>2739</td>\n",
       "      <td>$1,763,916.00</td>\n",
       "      <td>$644.00</td>\n",
       "      <td>77.102592</td>\n",
       "      <td>80.746258</td>\n",
       "      <td>68.309602</td>\n",
       "      <td>79.299014</td>\n",
       "      <td>54.289887</td>\n",
       "    </tr>\n",
       "    <tr>\n",
       "      <th>Griffin High School</th>\n",
       "      <th>Charter</th>\n",
       "      <td>1468</td>\n",
       "      <td>$917,500.00</td>\n",
       "      <td>$625.00</td>\n",
       "      <td>83.351499</td>\n",
       "      <td>83.816757</td>\n",
       "      <td>93.392371</td>\n",
       "      <td>97.138965</td>\n",
       "      <td>90.599455</td>\n",
       "    </tr>\n",
       "    <tr>\n",
       "      <th>Hernandez High School</th>\n",
       "      <th>District</th>\n",
       "      <td>4635</td>\n",
       "      <td>$3,022,020.00</td>\n",
       "      <td>$652.00</td>\n",
       "      <td>77.289752</td>\n",
       "      <td>80.934412</td>\n",
       "      <td>66.752967</td>\n",
       "      <td>80.862999</td>\n",
       "      <td>53.527508</td>\n",
       "    </tr>\n",
       "    <tr>\n",
       "      <th>Holden High School</th>\n",
       "      <th>Charter</th>\n",
       "      <td>427</td>\n",
       "      <td>$248,087.00</td>\n",
       "      <td>$581.00</td>\n",
       "      <td>83.803279</td>\n",
       "      <td>83.814988</td>\n",
       "      <td>92.505855</td>\n",
       "      <td>96.252927</td>\n",
       "      <td>89.227166</td>\n",
       "    </tr>\n",
       "    <tr>\n",
       "      <th>Huang High School</th>\n",
       "      <th>District</th>\n",
       "      <td>2917</td>\n",
       "      <td>$1,910,635.00</td>\n",
       "      <td>$655.00</td>\n",
       "      <td>76.629414</td>\n",
       "      <td>81.182722</td>\n",
       "      <td>65.683922</td>\n",
       "      <td>81.316421</td>\n",
       "      <td>53.513884</td>\n",
       "    </tr>\n",
       "    <tr>\n",
       "      <th>Johnson High School</th>\n",
       "      <th>District</th>\n",
       "      <td>4761</td>\n",
       "      <td>$3,094,650.00</td>\n",
       "      <td>$650.00</td>\n",
       "      <td>77.072464</td>\n",
       "      <td>80.966394</td>\n",
       "      <td>66.057551</td>\n",
       "      <td>81.222432</td>\n",
       "      <td>53.539172</td>\n",
       "    </tr>\n",
       "    <tr>\n",
       "      <th>Pena High School</th>\n",
       "      <th>Charter</th>\n",
       "      <td>962</td>\n",
       "      <td>$585,858.00</td>\n",
       "      <td>$609.00</td>\n",
       "      <td>83.839917</td>\n",
       "      <td>84.044699</td>\n",
       "      <td>94.594595</td>\n",
       "      <td>95.945946</td>\n",
       "      <td>90.540541</td>\n",
       "    </tr>\n",
       "    <tr>\n",
       "      <th>Rodriguez High School</th>\n",
       "      <th>District</th>\n",
       "      <td>3999</td>\n",
       "      <td>$2,547,363.00</td>\n",
       "      <td>$637.00</td>\n",
       "      <td>76.842711</td>\n",
       "      <td>80.744686</td>\n",
       "      <td>66.366592</td>\n",
       "      <td>80.220055</td>\n",
       "      <td>52.988247</td>\n",
       "    </tr>\n",
       "    <tr>\n",
       "      <th>Shelton High School</th>\n",
       "      <th>Charter</th>\n",
       "      <td>1761</td>\n",
       "      <td>$1,056,600.00</td>\n",
       "      <td>$600.00</td>\n",
       "      <td>83.359455</td>\n",
       "      <td>83.725724</td>\n",
       "      <td>93.867121</td>\n",
       "      <td>95.854628</td>\n",
       "      <td>89.892107</td>\n",
       "    </tr>\n",
       "    <tr>\n",
       "      <th>Thomas High School</th>\n",
       "      <th>Charter</th>\n",
       "      <td>1635</td>\n",
       "      <td>$1,043,130.00</td>\n",
       "      <td>$638.00</td>\n",
       "      <td>83.418349</td>\n",
       "      <td>83.848930</td>\n",
       "      <td>93.272171</td>\n",
       "      <td>97.308869</td>\n",
       "      <td>90.948012</td>\n",
       "    </tr>\n",
       "    <tr>\n",
       "      <th>Wilson High School</th>\n",
       "      <th>Charter</th>\n",
       "      <td>2283</td>\n",
       "      <td>$1,319,574.00</td>\n",
       "      <td>$578.00</td>\n",
       "      <td>83.274201</td>\n",
       "      <td>83.989488</td>\n",
       "      <td>93.867718</td>\n",
       "      <td>96.539641</td>\n",
       "      <td>90.582567</td>\n",
       "    </tr>\n",
       "    <tr>\n",
       "      <th>Wright High School</th>\n",
       "      <th>Charter</th>\n",
       "      <td>1800</td>\n",
       "      <td>$1,049,400.00</td>\n",
       "      <td>$583.00</td>\n",
       "      <td>83.682222</td>\n",
       "      <td>83.955000</td>\n",
       "      <td>93.333333</td>\n",
       "      <td>96.611111</td>\n",
       "      <td>90.333333</td>\n",
       "    </tr>\n",
       "  </tbody>\n",
       "</table>\n",
       "</div>"
      ],
      "text/plain": [
       "                                   Total Students Total School Budget  \\\n",
       "school_name           School Type                                       \n",
       "Bailey High School    District               4976       $3,124,928.00   \n",
       "Cabrera High School   Charter                1858       $1,081,356.00   \n",
       "Figueroa High School  District               2949       $1,884,411.00   \n",
       "Ford High School      District               2739       $1,763,916.00   \n",
       "Griffin High School   Charter                1468         $917,500.00   \n",
       "Hernandez High School District               4635       $3,022,020.00   \n",
       "Holden High School    Charter                 427         $248,087.00   \n",
       "Huang High School     District               2917       $1,910,635.00   \n",
       "Johnson High School   District               4761       $3,094,650.00   \n",
       "Pena High School      Charter                 962         $585,858.00   \n",
       "Rodriguez High School District               3999       $2,547,363.00   \n",
       "Shelton High School   Charter                1761       $1,056,600.00   \n",
       "Thomas High School    Charter                1635       $1,043,130.00   \n",
       "Wilson High School    Charter                2283       $1,319,574.00   \n",
       "Wright High School    Charter                1800       $1,049,400.00   \n",
       "\n",
       "                                  Per Student Budget  Average Math Score  \\\n",
       "school_name           School Type                                          \n",
       "Bailey High School    District               $628.00           77.048432   \n",
       "Cabrera High School   Charter                $582.00           83.061895   \n",
       "Figueroa High School  District               $639.00           76.711767   \n",
       "Ford High School      District               $644.00           77.102592   \n",
       "Griffin High School   Charter                $625.00           83.351499   \n",
       "Hernandez High School District               $652.00           77.289752   \n",
       "Holden High School    Charter                $581.00           83.803279   \n",
       "Huang High School     District               $655.00           76.629414   \n",
       "Johnson High School   District               $650.00           77.072464   \n",
       "Pena High School      Charter                $609.00           83.839917   \n",
       "Rodriguez High School District               $637.00           76.842711   \n",
       "Shelton High School   Charter                $600.00           83.359455   \n",
       "Thomas High School    Charter                $638.00           83.418349   \n",
       "Wilson High School    Charter                $578.00           83.274201   \n",
       "Wright High School    Charter                $583.00           83.682222   \n",
       "\n",
       "                                   Average Reading Score  % Passing Math  \\\n",
       "school_name           School Type                                          \n",
       "Bailey High School    District                 81.033963       66.680064   \n",
       "Cabrera High School   Charter                  83.975780       94.133477   \n",
       "Figueroa High School  District                 81.158020       65.988471   \n",
       "Ford High School      District                 80.746258       68.309602   \n",
       "Griffin High School   Charter                  83.816757       93.392371   \n",
       "Hernandez High School District                 80.934412       66.752967   \n",
       "Holden High School    Charter                  83.814988       92.505855   \n",
       "Huang High School     District                 81.182722       65.683922   \n",
       "Johnson High School   District                 80.966394       66.057551   \n",
       "Pena High School      Charter                  84.044699       94.594595   \n",
       "Rodriguez High School District                 80.744686       66.366592   \n",
       "Shelton High School   Charter                  83.725724       93.867121   \n",
       "Thomas High School    Charter                  83.848930       93.272171   \n",
       "Wilson High School    Charter                  83.989488       93.867718   \n",
       "Wright High School    Charter                  83.955000       93.333333   \n",
       "\n",
       "                                   % Passing Reading  % Overall Passing  \n",
       "school_name           School Type                                        \n",
       "Bailey High School    District             81.933280          54.642283  \n",
       "Cabrera High School   Charter              97.039828          91.334769  \n",
       "Figueroa High School  District             80.739234          53.204476  \n",
       "Ford High School      District             79.299014          54.289887  \n",
       "Griffin High School   Charter              97.138965          90.599455  \n",
       "Hernandez High School District             80.862999          53.527508  \n",
       "Holden High School    Charter              96.252927          89.227166  \n",
       "Huang High School     District             81.316421          53.513884  \n",
       "Johnson High School   District             81.222432          53.539172  \n",
       "Pena High School      Charter              95.945946          90.540541  \n",
       "Rodriguez High School District             80.220055          52.988247  \n",
       "Shelton High School   Charter              95.854628          89.892107  \n",
       "Thomas High School    Charter              97.308869          90.948012  \n",
       "Wilson High School    Charter              96.539641          90.582567  \n",
       "Wright High School    Charter              96.611111          90.333333  "
      ]
     },
     "execution_count": 23,
     "metadata": {},
     "output_type": "execute_result"
    }
   ],
   "source": [
    "# format / mapping\n",
    "school_summary[\"Total School Budget\"] = school_summary[\"Total School Budget\"].map(\"${:,.2f}\".format)\n",
    "school_summary[\"Per Student Budget\"] = school_summary[\"Per Student Budget\"].map(\"${:,.2f}\".format)\n",
    "school_summary"
   ]
  },
  {
   "cell_type": "markdown",
   "metadata": {},
   "source": [
    "## Top Performing Schools (By % Overall Passing)"
   ]
  },
  {
   "cell_type": "markdown",
   "metadata": {},
   "source": [
    "* Sort and display the top five performing schools by % overall passing."
   ]
  },
  {
   "cell_type": "code",
   "execution_count": 24,
   "metadata": {
    "scrolled": true
   },
   "outputs": [
    {
     "data": {
      "text/html": [
       "<div>\n",
       "<style scoped>\n",
       "    .dataframe tbody tr th:only-of-type {\n",
       "        vertical-align: middle;\n",
       "    }\n",
       "\n",
       "    .dataframe tbody tr th {\n",
       "        vertical-align: top;\n",
       "    }\n",
       "\n",
       "    .dataframe thead th {\n",
       "        text-align: right;\n",
       "    }\n",
       "</style>\n",
       "<table border=\"1\" class=\"dataframe\">\n",
       "  <thead>\n",
       "    <tr style=\"text-align: right;\">\n",
       "      <th></th>\n",
       "      <th></th>\n",
       "      <th>Total Students</th>\n",
       "      <th>Total School Budget</th>\n",
       "      <th>Per Student Budget</th>\n",
       "      <th>Average Math Score</th>\n",
       "      <th>Average Reading Score</th>\n",
       "      <th>% Passing Math</th>\n",
       "      <th>% Passing Reading</th>\n",
       "      <th>% Overall Passing</th>\n",
       "    </tr>\n",
       "    <tr>\n",
       "      <th>school_name</th>\n",
       "      <th>School Type</th>\n",
       "      <th></th>\n",
       "      <th></th>\n",
       "      <th></th>\n",
       "      <th></th>\n",
       "      <th></th>\n",
       "      <th></th>\n",
       "      <th></th>\n",
       "      <th></th>\n",
       "    </tr>\n",
       "  </thead>\n",
       "  <tbody>\n",
       "    <tr>\n",
       "      <th>Cabrera High School</th>\n",
       "      <th>Charter</th>\n",
       "      <td>1858</td>\n",
       "      <td>$1,081,356.00</td>\n",
       "      <td>$582.00</td>\n",
       "      <td>83.061895</td>\n",
       "      <td>83.975780</td>\n",
       "      <td>94.133477</td>\n",
       "      <td>97.039828</td>\n",
       "      <td>91.334769</td>\n",
       "    </tr>\n",
       "    <tr>\n",
       "      <th>Thomas High School</th>\n",
       "      <th>Charter</th>\n",
       "      <td>1635</td>\n",
       "      <td>$1,043,130.00</td>\n",
       "      <td>$638.00</td>\n",
       "      <td>83.418349</td>\n",
       "      <td>83.848930</td>\n",
       "      <td>93.272171</td>\n",
       "      <td>97.308869</td>\n",
       "      <td>90.948012</td>\n",
       "    </tr>\n",
       "    <tr>\n",
       "      <th>Griffin High School</th>\n",
       "      <th>Charter</th>\n",
       "      <td>1468</td>\n",
       "      <td>$917,500.00</td>\n",
       "      <td>$625.00</td>\n",
       "      <td>83.351499</td>\n",
       "      <td>83.816757</td>\n",
       "      <td>93.392371</td>\n",
       "      <td>97.138965</td>\n",
       "      <td>90.599455</td>\n",
       "    </tr>\n",
       "    <tr>\n",
       "      <th>Wilson High School</th>\n",
       "      <th>Charter</th>\n",
       "      <td>2283</td>\n",
       "      <td>$1,319,574.00</td>\n",
       "      <td>$578.00</td>\n",
       "      <td>83.274201</td>\n",
       "      <td>83.989488</td>\n",
       "      <td>93.867718</td>\n",
       "      <td>96.539641</td>\n",
       "      <td>90.582567</td>\n",
       "    </tr>\n",
       "    <tr>\n",
       "      <th>Pena High School</th>\n",
       "      <th>Charter</th>\n",
       "      <td>962</td>\n",
       "      <td>$585,858.00</td>\n",
       "      <td>$609.00</td>\n",
       "      <td>83.839917</td>\n",
       "      <td>84.044699</td>\n",
       "      <td>94.594595</td>\n",
       "      <td>95.945946</td>\n",
       "      <td>90.540541</td>\n",
       "    </tr>\n",
       "    <tr>\n",
       "      <th>Wright High School</th>\n",
       "      <th>Charter</th>\n",
       "      <td>1800</td>\n",
       "      <td>$1,049,400.00</td>\n",
       "      <td>$583.00</td>\n",
       "      <td>83.682222</td>\n",
       "      <td>83.955000</td>\n",
       "      <td>93.333333</td>\n",
       "      <td>96.611111</td>\n",
       "      <td>90.333333</td>\n",
       "    </tr>\n",
       "    <tr>\n",
       "      <th>Shelton High School</th>\n",
       "      <th>Charter</th>\n",
       "      <td>1761</td>\n",
       "      <td>$1,056,600.00</td>\n",
       "      <td>$600.00</td>\n",
       "      <td>83.359455</td>\n",
       "      <td>83.725724</td>\n",
       "      <td>93.867121</td>\n",
       "      <td>95.854628</td>\n",
       "      <td>89.892107</td>\n",
       "    </tr>\n",
       "    <tr>\n",
       "      <th>Holden High School</th>\n",
       "      <th>Charter</th>\n",
       "      <td>427</td>\n",
       "      <td>$248,087.00</td>\n",
       "      <td>$581.00</td>\n",
       "      <td>83.803279</td>\n",
       "      <td>83.814988</td>\n",
       "      <td>92.505855</td>\n",
       "      <td>96.252927</td>\n",
       "      <td>89.227166</td>\n",
       "    </tr>\n",
       "    <tr>\n",
       "      <th>Bailey High School</th>\n",
       "      <th>District</th>\n",
       "      <td>4976</td>\n",
       "      <td>$3,124,928.00</td>\n",
       "      <td>$628.00</td>\n",
       "      <td>77.048432</td>\n",
       "      <td>81.033963</td>\n",
       "      <td>66.680064</td>\n",
       "      <td>81.933280</td>\n",
       "      <td>54.642283</td>\n",
       "    </tr>\n",
       "    <tr>\n",
       "      <th>Ford High School</th>\n",
       "      <th>District</th>\n",
       "      <td>2739</td>\n",
       "      <td>$1,763,916.00</td>\n",
       "      <td>$644.00</td>\n",
       "      <td>77.102592</td>\n",
       "      <td>80.746258</td>\n",
       "      <td>68.309602</td>\n",
       "      <td>79.299014</td>\n",
       "      <td>54.289887</td>\n",
       "    </tr>\n",
       "    <tr>\n",
       "      <th>Johnson High School</th>\n",
       "      <th>District</th>\n",
       "      <td>4761</td>\n",
       "      <td>$3,094,650.00</td>\n",
       "      <td>$650.00</td>\n",
       "      <td>77.072464</td>\n",
       "      <td>80.966394</td>\n",
       "      <td>66.057551</td>\n",
       "      <td>81.222432</td>\n",
       "      <td>53.539172</td>\n",
       "    </tr>\n",
       "    <tr>\n",
       "      <th>Hernandez High School</th>\n",
       "      <th>District</th>\n",
       "      <td>4635</td>\n",
       "      <td>$3,022,020.00</td>\n",
       "      <td>$652.00</td>\n",
       "      <td>77.289752</td>\n",
       "      <td>80.934412</td>\n",
       "      <td>66.752967</td>\n",
       "      <td>80.862999</td>\n",
       "      <td>53.527508</td>\n",
       "    </tr>\n",
       "    <tr>\n",
       "      <th>Huang High School</th>\n",
       "      <th>District</th>\n",
       "      <td>2917</td>\n",
       "      <td>$1,910,635.00</td>\n",
       "      <td>$655.00</td>\n",
       "      <td>76.629414</td>\n",
       "      <td>81.182722</td>\n",
       "      <td>65.683922</td>\n",
       "      <td>81.316421</td>\n",
       "      <td>53.513884</td>\n",
       "    </tr>\n",
       "    <tr>\n",
       "      <th>Figueroa High School</th>\n",
       "      <th>District</th>\n",
       "      <td>2949</td>\n",
       "      <td>$1,884,411.00</td>\n",
       "      <td>$639.00</td>\n",
       "      <td>76.711767</td>\n",
       "      <td>81.158020</td>\n",
       "      <td>65.988471</td>\n",
       "      <td>80.739234</td>\n",
       "      <td>53.204476</td>\n",
       "    </tr>\n",
       "    <tr>\n",
       "      <th>Rodriguez High School</th>\n",
       "      <th>District</th>\n",
       "      <td>3999</td>\n",
       "      <td>$2,547,363.00</td>\n",
       "      <td>$637.00</td>\n",
       "      <td>76.842711</td>\n",
       "      <td>80.744686</td>\n",
       "      <td>66.366592</td>\n",
       "      <td>80.220055</td>\n",
       "      <td>52.988247</td>\n",
       "    </tr>\n",
       "  </tbody>\n",
       "</table>\n",
       "</div>"
      ],
      "text/plain": [
       "                                   Total Students Total School Budget  \\\n",
       "school_name           School Type                                       \n",
       "Cabrera High School   Charter                1858       $1,081,356.00   \n",
       "Thomas High School    Charter                1635       $1,043,130.00   \n",
       "Griffin High School   Charter                1468         $917,500.00   \n",
       "Wilson High School    Charter                2283       $1,319,574.00   \n",
       "Pena High School      Charter                 962         $585,858.00   \n",
       "Wright High School    Charter                1800       $1,049,400.00   \n",
       "Shelton High School   Charter                1761       $1,056,600.00   \n",
       "Holden High School    Charter                 427         $248,087.00   \n",
       "Bailey High School    District               4976       $3,124,928.00   \n",
       "Ford High School      District               2739       $1,763,916.00   \n",
       "Johnson High School   District               4761       $3,094,650.00   \n",
       "Hernandez High School District               4635       $3,022,020.00   \n",
       "Huang High School     District               2917       $1,910,635.00   \n",
       "Figueroa High School  District               2949       $1,884,411.00   \n",
       "Rodriguez High School District               3999       $2,547,363.00   \n",
       "\n",
       "                                  Per Student Budget  Average Math Score  \\\n",
       "school_name           School Type                                          \n",
       "Cabrera High School   Charter                $582.00           83.061895   \n",
       "Thomas High School    Charter                $638.00           83.418349   \n",
       "Griffin High School   Charter                $625.00           83.351499   \n",
       "Wilson High School    Charter                $578.00           83.274201   \n",
       "Pena High School      Charter                $609.00           83.839917   \n",
       "Wright High School    Charter                $583.00           83.682222   \n",
       "Shelton High School   Charter                $600.00           83.359455   \n",
       "Holden High School    Charter                $581.00           83.803279   \n",
       "Bailey High School    District               $628.00           77.048432   \n",
       "Ford High School      District               $644.00           77.102592   \n",
       "Johnson High School   District               $650.00           77.072464   \n",
       "Hernandez High School District               $652.00           77.289752   \n",
       "Huang High School     District               $655.00           76.629414   \n",
       "Figueroa High School  District               $639.00           76.711767   \n",
       "Rodriguez High School District               $637.00           76.842711   \n",
       "\n",
       "                                   Average Reading Score  % Passing Math  \\\n",
       "school_name           School Type                                          \n",
       "Cabrera High School   Charter                  83.975780       94.133477   \n",
       "Thomas High School    Charter                  83.848930       93.272171   \n",
       "Griffin High School   Charter                  83.816757       93.392371   \n",
       "Wilson High School    Charter                  83.989488       93.867718   \n",
       "Pena High School      Charter                  84.044699       94.594595   \n",
       "Wright High School    Charter                  83.955000       93.333333   \n",
       "Shelton High School   Charter                  83.725724       93.867121   \n",
       "Holden High School    Charter                  83.814988       92.505855   \n",
       "Bailey High School    District                 81.033963       66.680064   \n",
       "Ford High School      District                 80.746258       68.309602   \n",
       "Johnson High School   District                 80.966394       66.057551   \n",
       "Hernandez High School District                 80.934412       66.752967   \n",
       "Huang High School     District                 81.182722       65.683922   \n",
       "Figueroa High School  District                 81.158020       65.988471   \n",
       "Rodriguez High School District                 80.744686       66.366592   \n",
       "\n",
       "                                   % Passing Reading  % Overall Passing  \n",
       "school_name           School Type                                        \n",
       "Cabrera High School   Charter              97.039828          91.334769  \n",
       "Thomas High School    Charter              97.308869          90.948012  \n",
       "Griffin High School   Charter              97.138965          90.599455  \n",
       "Wilson High School    Charter              96.539641          90.582567  \n",
       "Pena High School      Charter              95.945946          90.540541  \n",
       "Wright High School    Charter              96.611111          90.333333  \n",
       "Shelton High School   Charter              95.854628          89.892107  \n",
       "Holden High School    Charter              96.252927          89.227166  \n",
       "Bailey High School    District             81.933280          54.642283  \n",
       "Ford High School      District             79.299014          54.289887  \n",
       "Johnson High School   District             81.222432          53.539172  \n",
       "Hernandez High School District             80.862999          53.527508  \n",
       "Huang High School     District             81.316421          53.513884  \n",
       "Figueroa High School  District             80.739234          53.204476  \n",
       "Rodriguez High School District             80.220055          52.988247  "
      ]
     },
     "execution_count": 24,
     "metadata": {},
     "output_type": "execute_result"
    }
   ],
   "source": [
    "top_performing = school_summary.sort_values([\"% Overall Passing\"], ascending = False)\n",
    "top_performing"
   ]
  },
  {
   "cell_type": "markdown",
   "metadata": {},
   "source": [
    "## Bottom Performing Schools (By % Overall Passing)"
   ]
  },
  {
   "cell_type": "markdown",
   "metadata": {},
   "source": [
    "* Sort and display the five worst-performing schools by % overall passing."
   ]
  },
  {
   "cell_type": "code",
   "execution_count": 25,
   "metadata": {
    "scrolled": true
   },
   "outputs": [
    {
     "data": {
      "text/html": [
       "<div>\n",
       "<style scoped>\n",
       "    .dataframe tbody tr th:only-of-type {\n",
       "        vertical-align: middle;\n",
       "    }\n",
       "\n",
       "    .dataframe tbody tr th {\n",
       "        vertical-align: top;\n",
       "    }\n",
       "\n",
       "    .dataframe thead th {\n",
       "        text-align: right;\n",
       "    }\n",
       "</style>\n",
       "<table border=\"1\" class=\"dataframe\">\n",
       "  <thead>\n",
       "    <tr style=\"text-align: right;\">\n",
       "      <th></th>\n",
       "      <th></th>\n",
       "      <th>Total Students</th>\n",
       "      <th>Total School Budget</th>\n",
       "      <th>Per Student Budget</th>\n",
       "      <th>Average Math Score</th>\n",
       "      <th>Average Reading Score</th>\n",
       "      <th>% Passing Math</th>\n",
       "      <th>% Passing Reading</th>\n",
       "      <th>% Overall Passing</th>\n",
       "    </tr>\n",
       "    <tr>\n",
       "      <th>school_name</th>\n",
       "      <th>School Type</th>\n",
       "      <th></th>\n",
       "      <th></th>\n",
       "      <th></th>\n",
       "      <th></th>\n",
       "      <th></th>\n",
       "      <th></th>\n",
       "      <th></th>\n",
       "      <th></th>\n",
       "    </tr>\n",
       "  </thead>\n",
       "  <tbody>\n",
       "    <tr>\n",
       "      <th>Rodriguez High School</th>\n",
       "      <th>District</th>\n",
       "      <td>3999</td>\n",
       "      <td>$2,547,363.00</td>\n",
       "      <td>$637.00</td>\n",
       "      <td>76.842711</td>\n",
       "      <td>80.744686</td>\n",
       "      <td>66.366592</td>\n",
       "      <td>80.220055</td>\n",
       "      <td>52.988247</td>\n",
       "    </tr>\n",
       "    <tr>\n",
       "      <th>Figueroa High School</th>\n",
       "      <th>District</th>\n",
       "      <td>2949</td>\n",
       "      <td>$1,884,411.00</td>\n",
       "      <td>$639.00</td>\n",
       "      <td>76.711767</td>\n",
       "      <td>81.158020</td>\n",
       "      <td>65.988471</td>\n",
       "      <td>80.739234</td>\n",
       "      <td>53.204476</td>\n",
       "    </tr>\n",
       "    <tr>\n",
       "      <th>Huang High School</th>\n",
       "      <th>District</th>\n",
       "      <td>2917</td>\n",
       "      <td>$1,910,635.00</td>\n",
       "      <td>$655.00</td>\n",
       "      <td>76.629414</td>\n",
       "      <td>81.182722</td>\n",
       "      <td>65.683922</td>\n",
       "      <td>81.316421</td>\n",
       "      <td>53.513884</td>\n",
       "    </tr>\n",
       "    <tr>\n",
       "      <th>Hernandez High School</th>\n",
       "      <th>District</th>\n",
       "      <td>4635</td>\n",
       "      <td>$3,022,020.00</td>\n",
       "      <td>$652.00</td>\n",
       "      <td>77.289752</td>\n",
       "      <td>80.934412</td>\n",
       "      <td>66.752967</td>\n",
       "      <td>80.862999</td>\n",
       "      <td>53.527508</td>\n",
       "    </tr>\n",
       "    <tr>\n",
       "      <th>Johnson High School</th>\n",
       "      <th>District</th>\n",
       "      <td>4761</td>\n",
       "      <td>$3,094,650.00</td>\n",
       "      <td>$650.00</td>\n",
       "      <td>77.072464</td>\n",
       "      <td>80.966394</td>\n",
       "      <td>66.057551</td>\n",
       "      <td>81.222432</td>\n",
       "      <td>53.539172</td>\n",
       "    </tr>\n",
       "    <tr>\n",
       "      <th>Ford High School</th>\n",
       "      <th>District</th>\n",
       "      <td>2739</td>\n",
       "      <td>$1,763,916.00</td>\n",
       "      <td>$644.00</td>\n",
       "      <td>77.102592</td>\n",
       "      <td>80.746258</td>\n",
       "      <td>68.309602</td>\n",
       "      <td>79.299014</td>\n",
       "      <td>54.289887</td>\n",
       "    </tr>\n",
       "    <tr>\n",
       "      <th>Bailey High School</th>\n",
       "      <th>District</th>\n",
       "      <td>4976</td>\n",
       "      <td>$3,124,928.00</td>\n",
       "      <td>$628.00</td>\n",
       "      <td>77.048432</td>\n",
       "      <td>81.033963</td>\n",
       "      <td>66.680064</td>\n",
       "      <td>81.933280</td>\n",
       "      <td>54.642283</td>\n",
       "    </tr>\n",
       "    <tr>\n",
       "      <th>Holden High School</th>\n",
       "      <th>Charter</th>\n",
       "      <td>427</td>\n",
       "      <td>$248,087.00</td>\n",
       "      <td>$581.00</td>\n",
       "      <td>83.803279</td>\n",
       "      <td>83.814988</td>\n",
       "      <td>92.505855</td>\n",
       "      <td>96.252927</td>\n",
       "      <td>89.227166</td>\n",
       "    </tr>\n",
       "    <tr>\n",
       "      <th>Shelton High School</th>\n",
       "      <th>Charter</th>\n",
       "      <td>1761</td>\n",
       "      <td>$1,056,600.00</td>\n",
       "      <td>$600.00</td>\n",
       "      <td>83.359455</td>\n",
       "      <td>83.725724</td>\n",
       "      <td>93.867121</td>\n",
       "      <td>95.854628</td>\n",
       "      <td>89.892107</td>\n",
       "    </tr>\n",
       "    <tr>\n",
       "      <th>Wright High School</th>\n",
       "      <th>Charter</th>\n",
       "      <td>1800</td>\n",
       "      <td>$1,049,400.00</td>\n",
       "      <td>$583.00</td>\n",
       "      <td>83.682222</td>\n",
       "      <td>83.955000</td>\n",
       "      <td>93.333333</td>\n",
       "      <td>96.611111</td>\n",
       "      <td>90.333333</td>\n",
       "    </tr>\n",
       "    <tr>\n",
       "      <th>Pena High School</th>\n",
       "      <th>Charter</th>\n",
       "      <td>962</td>\n",
       "      <td>$585,858.00</td>\n",
       "      <td>$609.00</td>\n",
       "      <td>83.839917</td>\n",
       "      <td>84.044699</td>\n",
       "      <td>94.594595</td>\n",
       "      <td>95.945946</td>\n",
       "      <td>90.540541</td>\n",
       "    </tr>\n",
       "    <tr>\n",
       "      <th>Wilson High School</th>\n",
       "      <th>Charter</th>\n",
       "      <td>2283</td>\n",
       "      <td>$1,319,574.00</td>\n",
       "      <td>$578.00</td>\n",
       "      <td>83.274201</td>\n",
       "      <td>83.989488</td>\n",
       "      <td>93.867718</td>\n",
       "      <td>96.539641</td>\n",
       "      <td>90.582567</td>\n",
       "    </tr>\n",
       "    <tr>\n",
       "      <th>Griffin High School</th>\n",
       "      <th>Charter</th>\n",
       "      <td>1468</td>\n",
       "      <td>$917,500.00</td>\n",
       "      <td>$625.00</td>\n",
       "      <td>83.351499</td>\n",
       "      <td>83.816757</td>\n",
       "      <td>93.392371</td>\n",
       "      <td>97.138965</td>\n",
       "      <td>90.599455</td>\n",
       "    </tr>\n",
       "    <tr>\n",
       "      <th>Thomas High School</th>\n",
       "      <th>Charter</th>\n",
       "      <td>1635</td>\n",
       "      <td>$1,043,130.00</td>\n",
       "      <td>$638.00</td>\n",
       "      <td>83.418349</td>\n",
       "      <td>83.848930</td>\n",
       "      <td>93.272171</td>\n",
       "      <td>97.308869</td>\n",
       "      <td>90.948012</td>\n",
       "    </tr>\n",
       "    <tr>\n",
       "      <th>Cabrera High School</th>\n",
       "      <th>Charter</th>\n",
       "      <td>1858</td>\n",
       "      <td>$1,081,356.00</td>\n",
       "      <td>$582.00</td>\n",
       "      <td>83.061895</td>\n",
       "      <td>83.975780</td>\n",
       "      <td>94.133477</td>\n",
       "      <td>97.039828</td>\n",
       "      <td>91.334769</td>\n",
       "    </tr>\n",
       "  </tbody>\n",
       "</table>\n",
       "</div>"
      ],
      "text/plain": [
       "                                   Total Students Total School Budget  \\\n",
       "school_name           School Type                                       \n",
       "Rodriguez High School District               3999       $2,547,363.00   \n",
       "Figueroa High School  District               2949       $1,884,411.00   \n",
       "Huang High School     District               2917       $1,910,635.00   \n",
       "Hernandez High School District               4635       $3,022,020.00   \n",
       "Johnson High School   District               4761       $3,094,650.00   \n",
       "Ford High School      District               2739       $1,763,916.00   \n",
       "Bailey High School    District               4976       $3,124,928.00   \n",
       "Holden High School    Charter                 427         $248,087.00   \n",
       "Shelton High School   Charter                1761       $1,056,600.00   \n",
       "Wright High School    Charter                1800       $1,049,400.00   \n",
       "Pena High School      Charter                 962         $585,858.00   \n",
       "Wilson High School    Charter                2283       $1,319,574.00   \n",
       "Griffin High School   Charter                1468         $917,500.00   \n",
       "Thomas High School    Charter                1635       $1,043,130.00   \n",
       "Cabrera High School   Charter                1858       $1,081,356.00   \n",
       "\n",
       "                                  Per Student Budget  Average Math Score  \\\n",
       "school_name           School Type                                          \n",
       "Rodriguez High School District               $637.00           76.842711   \n",
       "Figueroa High School  District               $639.00           76.711767   \n",
       "Huang High School     District               $655.00           76.629414   \n",
       "Hernandez High School District               $652.00           77.289752   \n",
       "Johnson High School   District               $650.00           77.072464   \n",
       "Ford High School      District               $644.00           77.102592   \n",
       "Bailey High School    District               $628.00           77.048432   \n",
       "Holden High School    Charter                $581.00           83.803279   \n",
       "Shelton High School   Charter                $600.00           83.359455   \n",
       "Wright High School    Charter                $583.00           83.682222   \n",
       "Pena High School      Charter                $609.00           83.839917   \n",
       "Wilson High School    Charter                $578.00           83.274201   \n",
       "Griffin High School   Charter                $625.00           83.351499   \n",
       "Thomas High School    Charter                $638.00           83.418349   \n",
       "Cabrera High School   Charter                $582.00           83.061895   \n",
       "\n",
       "                                   Average Reading Score  % Passing Math  \\\n",
       "school_name           School Type                                          \n",
       "Rodriguez High School District                 80.744686       66.366592   \n",
       "Figueroa High School  District                 81.158020       65.988471   \n",
       "Huang High School     District                 81.182722       65.683922   \n",
       "Hernandez High School District                 80.934412       66.752967   \n",
       "Johnson High School   District                 80.966394       66.057551   \n",
       "Ford High School      District                 80.746258       68.309602   \n",
       "Bailey High School    District                 81.033963       66.680064   \n",
       "Holden High School    Charter                  83.814988       92.505855   \n",
       "Shelton High School   Charter                  83.725724       93.867121   \n",
       "Wright High School    Charter                  83.955000       93.333333   \n",
       "Pena High School      Charter                  84.044699       94.594595   \n",
       "Wilson High School    Charter                  83.989488       93.867718   \n",
       "Griffin High School   Charter                  83.816757       93.392371   \n",
       "Thomas High School    Charter                  83.848930       93.272171   \n",
       "Cabrera High School   Charter                  83.975780       94.133477   \n",
       "\n",
       "                                   % Passing Reading  % Overall Passing  \n",
       "school_name           School Type                                        \n",
       "Rodriguez High School District             80.220055          52.988247  \n",
       "Figueroa High School  District             80.739234          53.204476  \n",
       "Huang High School     District             81.316421          53.513884  \n",
       "Hernandez High School District             80.862999          53.527508  \n",
       "Johnson High School   District             81.222432          53.539172  \n",
       "Ford High School      District             79.299014          54.289887  \n",
       "Bailey High School    District             81.933280          54.642283  \n",
       "Holden High School    Charter              96.252927          89.227166  \n",
       "Shelton High School   Charter              95.854628          89.892107  \n",
       "Wright High School    Charter              96.611111          90.333333  \n",
       "Pena High School      Charter              95.945946          90.540541  \n",
       "Wilson High School    Charter              96.539641          90.582567  \n",
       "Griffin High School   Charter              97.138965          90.599455  \n",
       "Thomas High School    Charter              97.308869          90.948012  \n",
       "Cabrera High School   Charter              97.039828          91.334769  "
      ]
     },
     "execution_count": 25,
     "metadata": {},
     "output_type": "execute_result"
    }
   ],
   "source": [
    "least_performing = school_summary.sort_values([\"% Overall Passing\"], ascending = True)\n",
    "least_performing"
   ]
  },
  {
   "cell_type": "markdown",
   "metadata": {
    "collapsed": true
   },
   "source": [
    "## Math Scores by Grade"
   ]
  },
  {
   "cell_type": "markdown",
   "metadata": {},
   "source": [
    "* Create a table that lists the average Math Score for students of each grade level (9th, 10th, 11th, 12th) at each school.\n",
    "\n",
    "  * Create a pandas series for each grade. Hint: use a conditional statement.\n",
    "  \n",
    "  * Group each series by school\n",
    "  \n",
    "  * Combine the series into a dataframe\n",
    "  \n",
    "  * Optional: give the displayed data cleaner formatting"
   ]
  },
  {
   "cell_type": "code",
   "execution_count": null,
   "metadata": {},
   "outputs": [],
   "source": []
  },
  {
   "cell_type": "markdown",
   "metadata": {},
   "source": [
    "## Reading Score by Grade "
   ]
  },
  {
   "cell_type": "markdown",
   "metadata": {},
   "source": [
    "* Perform the same operations as above for reading scores"
   ]
  },
  {
   "cell_type": "code",
   "execution_count": null,
   "metadata": {},
   "outputs": [],
   "source": []
  },
  {
   "cell_type": "markdown",
   "metadata": {},
   "source": [
    "## Scores by School Spending"
   ]
  },
  {
   "cell_type": "markdown",
   "metadata": {},
   "source": [
    "* Create a table that breaks down school performances based on average Spending Ranges (Per Student). Use 4 reasonable bins to group school spending. Include in the table each of the following:\n",
    "  * Average Math Score\n",
    "  * Average Reading Score\n",
    "  * % Passing Math\n",
    "  * % Passing Reading\n",
    "  * Overall Passing Rate (Average of the above two)"
   ]
  },
  {
   "cell_type": "code",
   "execution_count": 26,
   "metadata": {
    "scrolled": false
   },
   "outputs": [
    {
     "name": "stdout",
     "output_type": "stream",
     "text": [
      "$655.00\n",
      "$578.00\n"
     ]
    }
   ],
   "source": [
    "# get size range\n",
    "print(school_summary[\"Per Student Budget\"].max())\n",
    "print(school_summary[\"Per Student Budget\"].min())\n"
   ]
  },
  {
   "cell_type": "code",
   "execution_count": 27,
   "metadata": {},
   "outputs": [],
   "source": [
    "# create bins and labels \n",
    "spending_bins = [0, 585, 630, 645, 675]\n",
    "spending_labels = [\"<$584\", \"$585-629\", \"$630-644\", \"$645-675\"]"
   ]
  },
  {
   "cell_type": "code",
   "execution_count": 43,
   "metadata": {},
   "outputs": [],
   "source": [
    "# place the data series into a new column inside of the DataFrame\n",
    "\n",
    "per_student = school_data_complete[\"budget\"] / school_data_complete[\"Student ID\"].count()\n",
    "school_data_complete[\"student_budget\"] = per_student\n",
    "school_data_complete[\"spending_group2\"] = pd.cut(school_data_complete[\"student_budget\"], spending_bins, labels=spending_labels)\n",
    "by_spending = school_data_complete.groupby(\"spending_group2\")"
   ]
  },
  {
   "cell_type": "code",
   "execution_count": 44,
   "metadata": {},
   "outputs": [],
   "source": [
    "# average maths and reading scores\n",
    "total_students_spending = by_spending[\"Student ID\"].count()\n",
    "ave_maths_spending = by_spending[\"math_score\"].mean()\n",
    "ave_reading_spending = by_spending[\"reading_score\"].mean()"
   ]
  },
  {
   "cell_type": "code",
   "execution_count": 45,
   "metadata": {},
   "outputs": [],
   "source": [
    "# % passing maths score, reading score and overall scores\n",
    "passed_maths_spending = school_data_complete.loc[school_data_complete[\"math_score\"]>=70].groupby(\"spending_group2\")[\"Student ID\"].count()/ total_students_spending * 100 \n",
    "passed_reading_spending = school_data_complete.loc[school_data_complete[\"reading_score\"]>=70].groupby(\"spending_group2\")[\"Student ID\"].count()/ total_students_spending * 100 \n",
    "passed_both_spending = school_data_complete.loc[(school_data_complete[\"math_score\"]>=70) & (school_data_complete[\"reading_score\"]>=70)].groupby(\"spending_group2\")[\"Student ID\"].count()/ total_students_spending * 100 "
   ]
  },
  {
   "cell_type": "code",
   "execution_count": 40,
   "metadata": {
    "scrolled": true
   },
   "outputs": [
    {
     "data": {
      "text/html": [
       "<div>\n",
       "<style scoped>\n",
       "    .dataframe tbody tr th:only-of-type {\n",
       "        vertical-align: middle;\n",
       "    }\n",
       "\n",
       "    .dataframe tbody tr th {\n",
       "        vertical-align: top;\n",
       "    }\n",
       "\n",
       "    .dataframe thead th {\n",
       "        text-align: right;\n",
       "    }\n",
       "</style>\n",
       "<table border=\"1\" class=\"dataframe\">\n",
       "  <thead>\n",
       "    <tr style=\"text-align: right;\">\n",
       "      <th></th>\n",
       "      <th>Average Math Score</th>\n",
       "      <th>Average Reading Score</th>\n",
       "      <th>% Passing Math</th>\n",
       "      <th>% Passing Reading</th>\n",
       "      <th>% Overall Passing</th>\n",
       "    </tr>\n",
       "    <tr>\n",
       "      <th>spending_group2</th>\n",
       "      <th></th>\n",
       "      <th></th>\n",
       "      <th></th>\n",
       "      <th></th>\n",
       "      <th></th>\n",
       "    </tr>\n",
       "  </thead>\n",
       "  <tbody>\n",
       "    <tr>\n",
       "      <th>&lt;$584</th>\n",
       "      <td>78.985371</td>\n",
       "      <td>81.87784</td>\n",
       "      <td>74.980853</td>\n",
       "      <td>85.805463</td>\n",
       "      <td>65.172326</td>\n",
       "    </tr>\n",
       "    <tr>\n",
       "      <th>$585-629</th>\n",
       "      <td>NaN</td>\n",
       "      <td>NaN</td>\n",
       "      <td>NaN</td>\n",
       "      <td>NaN</td>\n",
       "      <td>NaN</td>\n",
       "    </tr>\n",
       "    <tr>\n",
       "      <th>$630-644</th>\n",
       "      <td>NaN</td>\n",
       "      <td>NaN</td>\n",
       "      <td>NaN</td>\n",
       "      <td>NaN</td>\n",
       "      <td>NaN</td>\n",
       "    </tr>\n",
       "    <tr>\n",
       "      <th>$645-675</th>\n",
       "      <td>NaN</td>\n",
       "      <td>NaN</td>\n",
       "      <td>NaN</td>\n",
       "      <td>NaN</td>\n",
       "      <td>NaN</td>\n",
       "    </tr>\n",
       "  </tbody>\n",
       "</table>\n",
       "</div>"
      ],
      "text/plain": [
       "                 Average Math Score  Average Reading Score  % Passing Math  \\\n",
       "spending_group2                                                              \n",
       "<$584                     78.985371               81.87784       74.980853   \n",
       "$585-629                        NaN                    NaN             NaN   \n",
       "$630-644                        NaN                    NaN             NaN   \n",
       "$645-675                        NaN                    NaN             NaN   \n",
       "\n",
       "                 % Passing Reading  % Overall Passing  \n",
       "spending_group2                                        \n",
       "<$584                    85.805463          65.172326  \n",
       "$585-629                       NaN                NaN  \n",
       "$630-644                       NaN                NaN  \n",
       "$645-675                       NaN                NaN  "
      ]
     },
     "execution_count": 40,
     "metadata": {},
     "output_type": "execute_result"
    }
   ],
   "source": [
    "# scores by school size table\n",
    "by_spending_summary = pd.DataFrame({\"Average Math Score\" : ave_maths_spending,\n",
    "                               \"Average Reading Score\" : ave_reading_spending,\n",
    "                               \"% Passing Math\" : passed_maths_spending,\n",
    "                               \"% Passing Reading\" : passed_reading_spending,\n",
    "                               \"% Overall Passing\" : passed_both_spending})\n",
    "by_spending_summary"
   ]
  },
  {
   "cell_type": "markdown",
   "metadata": {},
   "source": [
    "## Scores by School Size"
   ]
  },
  {
   "cell_type": "markdown",
   "metadata": {},
   "source": [
    "* Perform the same operations as above, based on school size."
   ]
  },
  {
   "cell_type": "code",
   "execution_count": null,
   "metadata": {},
   "outputs": [],
   "source": [
    "# get size range\n",
    "print(school_data_complete[\"size\"].max())\n",
    "print(school_data_complete[\"size\"].min())\n"
   ]
  },
  {
   "cell_type": "code",
   "execution_count": null,
   "metadata": {},
   "outputs": [],
   "source": [
    "# create bins and labels \n",
    "size_bins = [0, 999, 2000, 5001]\n",
    "size_labels = [\"Small (<1000)\", \"Medium (1000-2000)\", \"Large (2000-5000)\"]"
   ]
  },
  {
   "cell_type": "code",
   "execution_count": null,
   "metadata": {},
   "outputs": [],
   "source": [
    "# place the data series into a new column inside of the DataFrame\n",
    "school_data_complete[\"size_group\"] = pd.cut(school_data_complete[\"size\"], size_bins, labels=size_labels)\n",
    "by_size = school_data_complete.groupby(\"size_group\")\n"
   ]
  },
  {
   "cell_type": "code",
   "execution_count": null,
   "metadata": {},
   "outputs": [],
   "source": [
    "# average maths and reading scores\n",
    "ave_maths_size = by_size[\"math_score\"].mean()\n",
    "ave_reading_size = by_size[\"reading_score\"].mean()"
   ]
  },
  {
   "cell_type": "code",
   "execution_count": null,
   "metadata": {},
   "outputs": [],
   "source": [
    "# % passing maths score, reading score and overall scores\n",
    "total_students_size = by_size[\"Student ID\"].count()\n",
    "passed_maths_size = school_data_complete.loc[school_data_complete[\"math_score\"]>=70].groupby(\"size_group\")[\"Student ID\"].count()/ total_students_size * 100 \n",
    "passed_reading_size = school_data_complete.loc[school_data_complete[\"reading_score\"]>=70].groupby(\"size_group\")[\"Student ID\"].count()/ total_students_size * 100 \n",
    "passed_both_size = school_data_complete.loc[(school_data_complete[\"math_score\"]>=70) & (school_data_complete[\"reading_score\"]>=70)].groupby(\"size_group\")[\"Student ID\"].count()/ total_students_size * 100 "
   ]
  },
  {
   "cell_type": "code",
   "execution_count": null,
   "metadata": {
    "scrolled": true
   },
   "outputs": [],
   "source": [
    "# scores by school size table\n",
    "by_size_summary = pd.DataFrame({\"Average Math Score\" : ave_maths_size,\n",
    "                               \"Average Reading Score\" : ave_reading_size,\n",
    "                               \"% Passing Math\" : passed_maths_size,\n",
    "                               \"% Passing Reading\" : passed_reading_size,\n",
    "                               \"% Overall Passing\" : passed_both_size})\n",
    "by_size_summary"
   ]
  },
  {
   "cell_type": "markdown",
   "metadata": {},
   "source": [
    "## Scores by School Type"
   ]
  },
  {
   "cell_type": "markdown",
   "metadata": {},
   "source": [
    "* Perform the same operations as above, based on school type"
   ]
  },
  {
   "cell_type": "code",
   "execution_count": null,
   "metadata": {},
   "outputs": [],
   "source": [
    "df = school_data_complete.rename(columns={\"type\" : \"School Type\"})\n",
    "by_type = df.groupby([\"School Type\"])"
   ]
  },
  {
   "cell_type": "code",
   "execution_count": null,
   "metadata": {},
   "outputs": [],
   "source": [
    "# average maths and reading scores\n",
    "ave_maths_type = by_type[\"math_score\"].mean()\n",
    "ave_reading_type = by_type[\"reading_score\"].mean()"
   ]
  },
  {
   "cell_type": "code",
   "execution_count": null,
   "metadata": {},
   "outputs": [],
   "source": [
    "# % passing maths score, reading score and overall scores\n",
    "total_students_type = by_type[\"Student ID\"].count()\n",
    "passed_maths_type = school_data_complete.loc[school_data_complete[\"math_score\"]>=70].groupby(\"type\")[\"Student ID\"].count()/ total_students_type * 100 \n",
    "passed_reading_type = school_data_complete.loc[school_data_complete[\"reading_score\"]>=70].groupby(\"type\")[\"Student ID\"].count()/ total_students_type * 100 \n",
    "passed_both_type = school_data_complete.loc[(school_data_complete[\"math_score\"]>=70) & (school_data_complete[\"reading_score\"]>=70)].groupby(\"type\")[\"Student ID\"].count()/ total_students_type * 100 "
   ]
  },
  {
   "cell_type": "code",
   "execution_count": null,
   "metadata": {},
   "outputs": [],
   "source": [
    "# scores by school type table\n",
    "by_type_summary = pd.DataFrame({\"Average Math Score\" : ave_maths_type,\n",
    "                               \"Average Reading Score\" : ave_reading_type,\n",
    "                               \"% Passing Math\" : passed_maths_type,\n",
    "                               \"% Passing Reading\" : passed_reading_type,\n",
    "                               \"% Overall Passing\" : passed_both_type})\n",
    "by_type_summary"
   ]
  }
 ],
 "metadata": {
  "anaconda-cloud": {},
  "kernel_info": {
   "name": "python3"
  },
  "kernelspec": {
   "display_name": "Python 3",
   "language": "python",
   "name": "python3"
  },
  "language_info": {
   "codemirror_mode": {
    "name": "ipython",
    "version": 3
   },
   "file_extension": ".py",
   "mimetype": "text/x-python",
   "name": "python",
   "nbconvert_exporter": "python",
   "pygments_lexer": "ipython3",
   "version": "3.6.10"
  },
  "latex_envs": {
   "LaTeX_envs_menu_present": true,
   "autoclose": false,
   "autocomplete": true,
   "bibliofile": "biblio.bib",
   "cite_by": "apalike",
   "current_citInitial": 1,
   "eqLabelWithNumbers": true,
   "eqNumInitial": 1,
   "hotkeys": {
    "equation": "Ctrl-E",
    "itemize": "Ctrl-I"
   },
   "labels_anchors": false,
   "latex_user_defs": false,
   "report_style_numbering": false,
   "user_envs_cfg": false
  },
  "nteract": {
   "version": "0.8.4"
  }
 },
 "nbformat": 4,
 "nbformat_minor": 1
}
